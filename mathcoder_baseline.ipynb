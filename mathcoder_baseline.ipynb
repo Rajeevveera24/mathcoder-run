{
  "nbformat": 4,
  "nbformat_minor": 0,
  "metadata": {
    "colab": {
      "provenance": []
    },
    "kernelspec": {
      "name": "python3",
      "display_name": "Python 3"
    },
    "language_info": {
      "name": "python"
    }
  },
  "cells": [
    {
      "cell_type": "code",
      "source": [
        "!pip install fire\n",
        "!pip install latex2sympy2"
      ],
      "metadata": {
        "id": "CjEJMAGQjAKV"
      },
      "execution_count": null,
      "outputs": []
    },
    {
      "cell_type": "code",
      "source": [
        "# Installing Rust\n",
        "import locale\n",
        "locale.getpreferredencoding = lambda: \"UTF-8\"\n",
        "\n",
        "!curl --proto '=https' --tlsv1.2 -sSf https://sh.rustup.rs | sh -s -- -y\n",
        "!/root/.cargo/bin/rustup component add rust-src\n",
        "!cp /root/.cargo/bin/cargo /usr/local/sbin"
      ],
      "metadata": {
        "id": "fbNxMXAXlWay"
      },
      "execution_count": null,
      "outputs": []
    },
    {
      "cell_type": "code",
      "source": [
        "# Installing Text Generation Interface\n",
        "!pip install accelerate autoawq vllm==0.2.2 -U\n",
        "!wget https://github.com/huggingface/text-generation-inference/archive/refs/tags/v1.3.4.tar.gz\n",
        "!tar -xf v1.4.4.tar.gz\n",
        "!source ~/.cargo/env && cd text-generation-inference-1.3.4 && BUILD_EXTENSIONS=False make install"
      ],
      "metadata": {
        "id": "pwABfjYelYup"
      },
      "execution_count": null,
      "outputs": []
    },
    {
      "cell_type": "code",
      "execution_count": 9,
      "metadata": {
        "colab": {
          "base_uri": "https://localhost:8080/"
        },
        "id": "1CZTkvRyczX0",
        "outputId": "48388f81-1757-4184-bd88-fc10df00d97b"
      },
      "outputs": [
        {
          "output_type": "stream",
          "name": "stdout",
          "text": [
            "/content/anlp\n"
          ]
        }
      ],
      "source": [
        "cd anlp"
      ]
    },
    {
      "cell_type": "code",
      "source": [
        "!git clone https://github.com/mathllm/MathCoder.git"
      ],
      "metadata": {
        "id": "wZxPXtb_hwWf"
      },
      "execution_count": null,
      "outputs": []
    },
    {
      "cell_type": "code",
      "source": [
        "# Change model_path in deploy.sh to MathLLM/MathCoder-L-7B to use Llama\n",
        "# Run to deploy model using TGI\n",
        "!bash MathCoder/deploy.sh"
      ],
      "metadata": {
        "id": "FZ1C_xOcmFD6"
      },
      "execution_count": null,
      "outputs": []
    },
    {
      "cell_type": "code",
      "source": [
        "# Run inference for MathCoder-L-7B\n",
        "!python MathCoder/inference.py --pnum=4 --outdir=results --ip=172.17.0.2  --port=8000 --type=test --dataset=GSM8K"
      ],
      "metadata": {
        "id": "oBNzGURum1n9"
      },
      "execution_count": null,
      "outputs": []
    },
    {
      "cell_type": "code",
      "source": [
        "# Evaluate results\n",
        "!python MathCoder/src/evaluate.py results/GSM8K_test_result-20240329-1752.jsonl"
      ],
      "metadata": {
        "colab": {
          "base_uri": "https://localhost:8080/"
        },
        "id": "fcRx6WIIjzeu",
        "outputId": "a041e790-07cb-47ab-c3c0-7d014f66c5d1"
      },
      "execution_count": 18,
      "outputs": [
        {
          "output_type": "stream",
          "name": "stdout",
          "text": [
            "eval: 100% 1319/1319 [00:00<00:00, 1742.90it/s]\n",
            "\n",
            "Correct error num distribution: [(0, 843), (1, 5), (2, 1)]\n",
            "Wrong error num distribution  : [(0, 444), (1, 6), (2, 6), (3, 2), (4, 2), (6, 1), (10, 1), (14, 1), (16, 7)]\n",
            "\n",
            "Correct len distribution: [(1, 2), (3, 71), (4, 149), (7, 266), (9, 1), (10, 214), (13, 103), (15, 1), (16, 34), (19, 3), (22, 3), (47, 2)]\n",
            "Wrong len distribution  : [(1, 1), (3, 14), (4, 101), (5, 3), (7, 92), (8, 2), (10, 102), (11, 2), (13, 69), (14, 1), (16, 27), (19, 9), (20, 1), (22, 4), (25, 2), (26, 1), (28, 1), (31, 2), (33, 1), (39, 2), (42, 2), (46, 5), (47, 26)]\n",
            "\n",
            "Error Freq of correct: 0.008244994110718492\n",
            "Error Freq of wrong  : 0.3702127659574468\n",
            "\n",
            "Avg. lenth of correct: 8.170789163722025\n",
            "Avg. lenth of wrong  : 11.912765957446808\n",
            "\n",
            "count_correct: 849\n",
            "Accuracy: 64.37%\n",
            "\n",
            "\n"
          ]
        }
      ]
    },
    {
      "cell_type": "code",
      "source": [
        "# Change model_path in deploy.sh to MathLLM/MathCoder-CL-7B to use CodeLLama base\n",
        "!bash MathCoder/deploy.sh"
      ],
      "metadata": {
        "id": "dy3fcpWOniMN"
      },
      "execution_count": null,
      "outputs": []
    },
    {
      "cell_type": "code",
      "source": [
        "# Run inference for MathCoder-CL-7B\n",
        "!python MathCoder/inference.py --pnum=4 --outdir=results --ip=172.17.0.2  --port=8001 --type=test --dataset=GSM8K"
      ],
      "metadata": {
        "id": "mcch4Op3oA5_"
      },
      "execution_count": null,
      "outputs": []
    },
    {
      "cell_type": "code",
      "source": [
        "!python MathCoder/src/evaluate.py results/GSM8K_test_result--20240330-0239.jsonl"
      ],
      "metadata": {
        "colab": {
          "base_uri": "https://localhost:8080/"
        },
        "id": "ZaOz3jGskdf2",
        "outputId": "e78c756c-aec9-46be-e523-76f9e56f6e97"
      },
      "execution_count": 19,
      "outputs": [
        {
          "output_type": "stream",
          "name": "stdout",
          "text": [
            "eval: 100% 1319/1319 [00:00<00:00, 1720.95it/s]\n",
            "\n",
            "Correct error num distribution: [(0, 897), (1, 2), (2, 1)]\n",
            "Wrong error num distribution  : [(0, 407), (1, 8), (2, 2), (3, 1), (4, 1)]\n",
            "\n",
            "Correct len distribution: [(1, 2), (3, 16), (4, 206), (5, 2), (7, 289), (8, 1), (10, 232), (13, 106), (16, 38), (17, 1), (19, 6), (47, 1)]\n",
            "Wrong len distribution  : [(3, 3), (4, 111), (5, 1), (7, 91), (8, 2), (10, 96), (11, 1), (13, 52), (16, 24), (17, 1), (19, 6), (22, 3), (25, 2), (28, 1), (31, 1), (33, 2), (34, 1), (35, 1), (36, 1), (37, 1), (38, 1), (39, 1), (42, 1), (43, 1), (44, 1), (45, 1), (46, 4), (47, 8)]\n",
            "\n",
            "Error Freq of correct: 0.0044444444444444444\n",
            "Error Freq of wrong  : 0.045346062052505964\n",
            "\n",
            "Avg. lenth of correct: 8.221111111111112\n",
            "Avg. lenth of wrong  : 10.66109785202864\n",
            "\n",
            "count_correct: 900\n",
            "Accuracy: 68.23%\n",
            "\n",
            "\n"
          ]
        }
      ]
    }
  ]
}